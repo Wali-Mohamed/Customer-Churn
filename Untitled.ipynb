{
 "cells": [
  {
   "cell_type": "code",
   "execution_count": 1,
   "id": "2e051390-6dd8-46a3-a311-48a67fe139d3",
   "metadata": {},
   "outputs": [],
   "source": [
    "import string"
   ]
  },
  {
   "cell_type": "code",
   "execution_count": 2,
   "id": "a72e3e1f-e7cb-45bb-a17e-717b5f9c577c",
   "metadata": {},
   "outputs": [],
   "source": [
    "alphabet = list(string.ascii_lowercase)"
   ]
  },
  {
   "cell_type": "code",
   "execution_count": 3,
   "id": "f2ca52e4-b6d0-44dd-ae66-a1029d7a2cf3",
   "metadata": {},
   "outputs": [],
   "source": [
    "def apply(nums):\n",
    "    for i in range(len(nums)-1):\n",
    "        if nums[i]==nums[i+1]:\n",
    "            nums[i]=2*nums[i]\n",
    "            nums[i+1]=0\n",
    "    count=0\n",
    "    for i in range(len(nums)):\n",
    "        if nums[i] != 0:\n",
    "             \n",
    "            # here count is incremented\n",
    "            nums[count] = nums[i]\n",
    "            count+=1\n",
    "     \n",
    "    # Now all non-zero elements have been\n",
    "    # shifted to front and 'count' is set\n",
    "    # as index of first 0. Make all\n",
    "    # elements 0 from count to end.\n",
    "    while count < len(nums):\n",
    "        nums[count] = 0\n",
    "        count += 1\n",
    "    return nums"
   ]
  },
  {
   "cell_type": "code",
   "execution_count": 4,
   "id": "9a3c96b4-bd2b-43d9-81f4-acecf2ecbb04",
   "metadata": {},
   "outputs": [],
   "source": [
    "nums=[2,2,2,4,4]\n",
    "#apply(nums)"
   ]
  },
  {
   "cell_type": "code",
   "execution_count": 5,
   "id": "e6fb2895-5f58-4537-87a4-6cdebfbb7fc4",
   "metadata": {},
   "outputs": [
    {
     "data": {
      "text/plain": [
       "True"
      ]
     },
     "execution_count": 5,
     "metadata": {},
     "output_type": "execute_result"
    }
   ],
   "source": [
    "sum(nums[:2])==sum(nums[1:3])"
   ]
  },
  {
   "cell_type": "code",
   "execution_count": 6,
   "id": "7050d3de-5130-46e7-abfa-4638689234b3",
   "metadata": {},
   "outputs": [
    {
     "data": {
      "text/plain": [
       "{2, 4}"
      ]
     },
     "execution_count": 6,
     "metadata": {},
     "output_type": "execute_result"
    }
   ],
   "source": [
    "set(nums)"
   ]
  },
  {
   "cell_type": "code",
   "execution_count": 7,
   "id": "55f80f59-d599-4514-98d7-1e539d51f715",
   "metadata": {},
   "outputs": [
    {
     "data": {
      "text/plain": [
       "<AxesSubplot:xlabel='x'>"
      ]
     },
     "execution_count": 7,
     "metadata": {},
     "output_type": "execute_result"
    },
    {
     "data": {
      "image/png": "[encoded data removed]",
      "text/plain": [
       "<Figure size 300x250 with 1 Axes>"
      ]
     },
     "metadata": {},
     "output_type": "display_data"
    }
   ],
   "source": [
    "#from tkinter import Tk, Canvas\n",
    "import pandas as pd\n",
    "import numpy as np\n",
    "import matplotlib.pyplot as plt\n",
    "from matplotlib.backends.backend_tkagg import FigureCanvasTkAgg\n",
    "\n",
    "# window = Tk()\n",
    "# window.geometry('800x600')\n",
    "\n",
    "df = pd.DataFrame()\n",
    "df['x'] = np.linspace(1, 10, 10)\n",
    "df['y'] = np.random.randint(1, 10, 10)\n",
    "\n",
    "df2 = pd.DataFrame()\n",
    "df2['x'] = np.linspace(1, 10, 50)\n",
    "df2['y'] = np.random.randint(1, 10, 50)\n",
    "\n",
    "fig, ax = plt.subplots()\n",
    "df.plot(x='x', y='y', kind='bar', ax=ax, width=1., figsize=(3, 2.5), legend=None)\n",
    "df2.plot(x='x', y='y', kind='line', ax=ax, legend=None)"
   ]
  },
  {
   "cell_type": "code",
   "execution_count": 8,
   "id": "ca888ced-0dd0-4f95-af8d-f12b1735accd",
   "metadata": {},
   "outputs": [
    {
     "ename": "IndentationError",
     "evalue": "expected an indented block (2097940752.py, line 1)",
     "output_type": "error",
     "traceback": [
      "\u001b[1;36m  File \u001b[1;32m\"C:\\Users\\Walee\\AppData\\Local\\Temp\\ipykernel_12780\\2097940752.py\"\u001b[1;36m, line \u001b[1;32m1\u001b[0m\n\u001b[1;33m    def halvesAreAlike(self, s: str) -> bool:\u001b[0m\n\u001b[1;37m                                             ^\u001b[0m\n\u001b[1;31mIndentationError\u001b[0m\u001b[1;31m:\u001b[0m expected an indented block\n"
     ]
    }
   ],
   "source": [
    "def halvesAreAlike(self, s: str) -> bool:\n",
    "    "
   ]
  },
  {
   "cell_type": "code",
   "execution_count": 36,
   "id": "70d56874-2c7a-42bd-8504-e13d2cc4b67f",
   "metadata": {},
   "outputs": [
    {
     "name": "stdout",
     "output_type": "stream",
     "text": [
      "8\n",
      "['b', 'o', 'o', 'k'] ['c', 'a', 's', 'e']\n",
      "[0, 0, 0, 2, 0]\n",
      "[1, 1, 0, 0, 0]\n"
     ]
    },
    {
     "data": {
      "text/plain": [
       "'b'"
      ]
     },
     "execution_count": 36,
     "metadata": {},
     "output_type": "execute_result"
    }
   ],
   "source": [
    "string='bookcase'\n",
    "dd=list(string)\n",
    "print(len(dd))\n",
    "length=len(dd)\n",
    "a=dd[:int(len(dd)/2)]\n",
    "b=dd[int(len(dd)/2):]\n",
    "print(a,b)\n",
    "vowels=['a','e', 'i', 'o','u']\n",
    "avowels=[]\n",
    "bvowels=[]\n",
    "for i in vowels:\n",
    "    avowels.append(a.count(i))\n",
    "    bvowels.append(b.count(i))\n",
    "print(avowels)\n",
    "print(bvowels)\n",
    "avowels==bvowels\n",
    "string[0]"
   ]
  },
  {
   "cell_type": "code",
   "execution_count": 37,
   "id": "64bc519d-3d97-4bb6-9d62-f6c0d5a1bf17",
   "metadata": {},
   "outputs": [
    {
     "ename": "SyntaxError",
     "evalue": "invalid syntax (3293238816.py, line 5)",
     "output_type": "error",
     "traceback": [
      "\u001b[1;36m  File \u001b[1;32m\"C:\\Users\\Walee\\AppData\\Local\\Temp\\ipykernel_12780\\3293238816.py\"\u001b[1;36m, line \u001b[1;32m5\u001b[0m\n\u001b[1;33m    if bills[i]=5:\u001b[0m\n\u001b[1;37m               ^\u001b[0m\n\u001b[1;31mSyntaxError\u001b[0m\u001b[1;31m:\u001b[0m invalid syntax\n"
     ]
    }
   ],
   "source": [
    "def lemonadeChange(self, bills):\n",
    "        count_of_five_dollars=0\n",
    "        bolian=[]\n",
    "        for i in range(len(bills)):\n",
    "            if bills[i]=5:\n",
    "                return True\n",
    "                count_of_five_dollars+=1\n",
    "                bolian.append(True)\n",
    "            elif if bills[i]==10    \n",
    "                return True\n",
    "                "
   ]
  },
  {
   "cell_type": "code",
   "execution_count": null,
   "id": "973fafa5-6606-4457-8c28-822b7facbb2e",
   "metadata": {},
   "outputs": [],
   "source": [
    "class Solution:\n",
    "    def lemonadeChange(self, bills: List[int]) -> bool:\n",
    "        myDict = {\"5Dollar\":0, \"10Dollar\": 0, \"20Dollar\": 0}\n",
    "        \n",
    "        for i in bills:\n",
    "            if i == 5:\n",
    "                myDict[\"5Dollar\"] += 5\n",
    "            if i == 10:\n",
    "                myDict[\"10Dollar\"] += 10\n",
    "                myDict[\"5Dollar\"] -= 5\n",
    "                print(myDict)\n",
    "                if myDict[\"5Dollar\"] < 0:\n",
    "                    return False\n",
    "            if i == 20:\n",
    "                myDict[\"20Dollar\"] += 20 \n",
    "                if myDict[\"5Dollar\"] >= 5 and myDict[\"10Dollar\"] >= 10:\n",
    "                    myDict[\"10Dollar\"] -=10\n",
    "                else: \n",
    "                    continue\n",
    "                if myDict[\"5Dollar\"] >= 15:\n",
    "                    myDict[\"5Dollar\"] -= 15\n",
    "                else:\n",
    "                    print(myDict)\n",
    "                    return False\n",
    "                    \n",
    "        return True"
   ]
  }
 ],
 "metadata": {
  "kernelspec": {
   "display_name": "Python 3 (ipykernel)",
   "language": "python",
   "name": "python3"
  },
  "language_info": {
   "codemirror_mode": {
    "name": "ipython",
    "version": 3
   },
   "file_extension": ".py",
   "mimetype": "text/x-python",
   "name": "python",
   "nbconvert_exporter": "python",
   "pygments_lexer": "ipython3",
   "version": "3.9.13"
  }
 },
 "nbformat": 4,
 "nbformat_minor": 5
}
